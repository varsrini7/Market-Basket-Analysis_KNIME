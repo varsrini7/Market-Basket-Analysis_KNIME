{
 "cells": [
  {
   "cell_type": "code",
   "execution_count": 20,
   "id": "ecc5a3cb",
   "metadata": {},
   "outputs": [],
   "source": [
    "%matplotlib inline \n",
    "import numpy as np \n",
    "import pandas as pd    \n",
    "import seaborn as sns\n",
    "import warnings\n",
    "import matplotlib.pyplot as plt\n",
    "\n",
    "warnings.filterwarnings(\"ignore\")\n"
   ]
  },
  {
   "cell_type": "code",
   "execution_count": 21,
   "id": "8ed3e0c7",
   "metadata": {},
   "outputs": [
    {
     "data": {
      "text/html": [
       "<div>\n",
       "<style scoped>\n",
       "    .dataframe tbody tr th:only-of-type {\n",
       "        vertical-align: middle;\n",
       "    }\n",
       "\n",
       "    .dataframe tbody tr th {\n",
       "        vertical-align: top;\n",
       "    }\n",
       "\n",
       "    .dataframe thead th {\n",
       "        text-align: right;\n",
       "    }\n",
       "</style>\n",
       "<table border=\"1\" class=\"dataframe\">\n",
       "  <thead>\n",
       "    <tr style=\"text-align: right;\">\n",
       "      <th></th>\n",
       "      <th>Date</th>\n",
       "      <th>Order_id</th>\n",
       "      <th>Product</th>\n",
       "    </tr>\n",
       "  </thead>\n",
       "  <tbody>\n",
       "    <tr>\n",
       "      <th>0</th>\n",
       "      <td>01-01-2018</td>\n",
       "      <td>1</td>\n",
       "      <td>yogurt</td>\n",
       "    </tr>\n",
       "    <tr>\n",
       "      <th>1</th>\n",
       "      <td>01-01-2018</td>\n",
       "      <td>1</td>\n",
       "      <td>pork</td>\n",
       "    </tr>\n",
       "    <tr>\n",
       "      <th>2</th>\n",
       "      <td>01-01-2018</td>\n",
       "      <td>1</td>\n",
       "      <td>sandwich bags</td>\n",
       "    </tr>\n",
       "    <tr>\n",
       "      <th>3</th>\n",
       "      <td>01-01-2018</td>\n",
       "      <td>1</td>\n",
       "      <td>lunch meat</td>\n",
       "    </tr>\n",
       "    <tr>\n",
       "      <th>4</th>\n",
       "      <td>01-01-2018</td>\n",
       "      <td>1</td>\n",
       "      <td>all- purpose</td>\n",
       "    </tr>\n",
       "  </tbody>\n",
       "</table>\n",
       "</div>"
      ],
      "text/plain": [
       "         Date  Order_id        Product\n",
       "0  01-01-2018         1         yogurt\n",
       "1  01-01-2018         1           pork\n",
       "2  01-01-2018         1  sandwich bags\n",
       "3  01-01-2018         1     lunch meat\n",
       "4  01-01-2018         1   all- purpose"
      ]
     },
     "execution_count": 21,
     "metadata": {},
     "output_type": "execute_result"
    }
   ],
   "source": [
    "df=pd.read_csv('dataset_group.csv')\n",
    "df.head()"
   ]
  },
  {
   "cell_type": "code",
   "execution_count": 22,
   "id": "e0a444e0",
   "metadata": {},
   "outputs": [
    {
     "name": "stdout",
     "output_type": "stream",
     "text": [
      "<class 'pandas.core.frame.DataFrame'>\n",
      "RangeIndex: 20641 entries, 0 to 20640\n",
      "Data columns (total 3 columns):\n",
      " #   Column    Non-Null Count  Dtype \n",
      "---  ------    --------------  ----- \n",
      " 0   Date      20641 non-null  object\n",
      " 1   Order_id  20641 non-null  int64 \n",
      " 2   Product   20641 non-null  object\n",
      "dtypes: int64(1), object(2)\n",
      "memory usage: 483.9+ KB\n"
     ]
    }
   ],
   "source": [
    "df.info()"
   ]
  },
  {
   "cell_type": "code",
   "execution_count": 23,
   "id": "62e24bef",
   "metadata": {},
   "outputs": [
    {
     "data": {
      "text/html": [
       "<div>\n",
       "<style scoped>\n",
       "    .dataframe tbody tr th:only-of-type {\n",
       "        vertical-align: middle;\n",
       "    }\n",
       "\n",
       "    .dataframe tbody tr th {\n",
       "        vertical-align: top;\n",
       "    }\n",
       "\n",
       "    .dataframe thead th {\n",
       "        text-align: right;\n",
       "    }\n",
       "</style>\n",
       "<table border=\"1\" class=\"dataframe\">\n",
       "  <thead>\n",
       "    <tr style=\"text-align: right;\">\n",
       "      <th></th>\n",
       "      <th>Date</th>\n",
       "      <th>Order_id</th>\n",
       "      <th>Product</th>\n",
       "    </tr>\n",
       "  </thead>\n",
       "  <tbody>\n",
       "    <tr>\n",
       "      <th>count</th>\n",
       "      <td>20641</td>\n",
       "      <td>20641.000000</td>\n",
       "      <td>20641</td>\n",
       "    </tr>\n",
       "    <tr>\n",
       "      <th>unique</th>\n",
       "      <td>603</td>\n",
       "      <td>NaN</td>\n",
       "      <td>37</td>\n",
       "    </tr>\n",
       "    <tr>\n",
       "      <th>top</th>\n",
       "      <td>08-02-2019</td>\n",
       "      <td>NaN</td>\n",
       "      <td>poultry</td>\n",
       "    </tr>\n",
       "    <tr>\n",
       "      <th>freq</th>\n",
       "      <td>183</td>\n",
       "      <td>NaN</td>\n",
       "      <td>640</td>\n",
       "    </tr>\n",
       "    <tr>\n",
       "      <th>mean</th>\n",
       "      <td>NaN</td>\n",
       "      <td>575.986289</td>\n",
       "      <td>NaN</td>\n",
       "    </tr>\n",
       "    <tr>\n",
       "      <th>std</th>\n",
       "      <td>NaN</td>\n",
       "      <td>328.557078</td>\n",
       "      <td>NaN</td>\n",
       "    </tr>\n",
       "    <tr>\n",
       "      <th>min</th>\n",
       "      <td>NaN</td>\n",
       "      <td>1.000000</td>\n",
       "      <td>NaN</td>\n",
       "    </tr>\n",
       "    <tr>\n",
       "      <th>25%</th>\n",
       "      <td>NaN</td>\n",
       "      <td>292.000000</td>\n",
       "      <td>NaN</td>\n",
       "    </tr>\n",
       "    <tr>\n",
       "      <th>50%</th>\n",
       "      <td>NaN</td>\n",
       "      <td>581.000000</td>\n",
       "      <td>NaN</td>\n",
       "    </tr>\n",
       "    <tr>\n",
       "      <th>75%</th>\n",
       "      <td>NaN</td>\n",
       "      <td>862.000000</td>\n",
       "      <td>NaN</td>\n",
       "    </tr>\n",
       "    <tr>\n",
       "      <th>max</th>\n",
       "      <td>NaN</td>\n",
       "      <td>1139.000000</td>\n",
       "      <td>NaN</td>\n",
       "    </tr>\n",
       "  </tbody>\n",
       "</table>\n",
       "</div>"
      ],
      "text/plain": [
       "              Date      Order_id  Product\n",
       "count        20641  20641.000000    20641\n",
       "unique         603           NaN       37\n",
       "top     08-02-2019           NaN  poultry\n",
       "freq           183           NaN      640\n",
       "mean           NaN    575.986289      NaN\n",
       "std            NaN    328.557078      NaN\n",
       "min            NaN      1.000000      NaN\n",
       "25%            NaN    292.000000      NaN\n",
       "50%            NaN    581.000000      NaN\n",
       "75%            NaN    862.000000      NaN\n",
       "max            NaN   1139.000000      NaN"
      ]
     },
     "execution_count": 23,
     "metadata": {},
     "output_type": "execute_result"
    }
   ],
   "source": [
    "df.describe(include='all')"
   ]
  },
  {
   "cell_type": "code",
   "execution_count": 24,
   "id": "2e79d0a5",
   "metadata": {},
   "outputs": [
    {
     "name": "stdout",
     "output_type": "stream",
     "text": [
      "The shape of the data is  (20641, 3)\n"
     ]
    }
   ],
   "source": [
    "print(\"The shape of the data is \",df.shape)"
   ]
  },
  {
   "cell_type": "code",
   "execution_count": 26,
   "id": "ffef7801",
   "metadata": {},
   "outputs": [
    {
     "data": {
      "text/plain": [
       "Date        0\n",
       "Order_id    0\n",
       "Product     0\n",
       "dtype: int64"
      ]
     },
     "execution_count": 26,
     "metadata": {},
     "output_type": "execute_result"
    }
   ],
   "source": [
    "df.isnull().sum()"
   ]
  },
  {
   "cell_type": "code",
   "execution_count": 27,
   "id": "b9eecbe0",
   "metadata": {},
   "outputs": [
    {
     "data": {
      "text/plain": [
       "37"
      ]
     },
     "execution_count": 27,
     "metadata": {},
     "output_type": "execute_result"
    }
   ],
   "source": [
    "df['Product'].nunique()"
   ]
  },
  {
   "cell_type": "code",
   "execution_count": 28,
   "id": "3ed97140",
   "metadata": {},
   "outputs": [
    {
     "data": {
      "text/plain": [
       "0                   yogurt\n",
       "1                     pork\n",
       "2            sandwich bags\n",
       "3               lunch meat\n",
       "4             all- purpose\n",
       "               ...        \n",
       "20636                 soda\n",
       "20637         paper towels\n",
       "20638                 soda\n",
       "20639    laundry detergent\n",
       "20640              shampoo\n",
       "Name: Product, Length: 20641, dtype: object"
      ]
     },
     "execution_count": 28,
     "metadata": {},
     "output_type": "execute_result"
    }
   ],
   "source": [
    "df['Product'].str.lower()"
   ]
  },
  {
   "cell_type": "code",
   "execution_count": 29,
   "id": "ec641d98",
   "metadata": {},
   "outputs": [
    {
     "data": {
      "text/plain": [
       "37"
      ]
     },
     "execution_count": 29,
     "metadata": {},
     "output_type": "execute_result"
    }
   ],
   "source": [
    "df['Product'].str.lower().nunique()"
   ]
  },
  {
   "cell_type": "code",
   "execution_count": 30,
   "id": "50aa856e",
   "metadata": {},
   "outputs": [
    {
     "data": {
      "text/plain": [
       "poultry                         640\n",
       "soda                            597\n",
       "cereals                         591\n",
       "ice cream                       579\n",
       "cheeses                         578\n",
       "waffles                         575\n",
       "soap                            574\n",
       "bagels                          573\n",
       "lunch meat                      573\n",
       "juice                           570\n",
       "eggs                            570\n",
       "toilet paper                    569\n",
       "dinner rolls                    567\n",
       "aluminum foil                   566\n",
       "coffee/tea                      565\n",
       "shampoo                         562\n",
       "beef                            561\n",
       "paper towels                    556\n",
       "flour                           555\n",
       "butter                          555\n",
       "milk                            555\n",
       "mixes                           554\n",
       "dishwashing liquid/detergent    551\n",
       "all- purpose                    551\n",
       "ketchup                         548\n",
       "yogurt                          545\n",
       "individual meals                544\n",
       "tortillas                       543\n",
       "pasta                           542\n",
       "laundry detergent               542\n",
       "spaghetti sauce                 536\n",
       "sandwich bags                   536\n",
       "sugar                           533\n",
       "pork                            531\n",
       "fruits                          529\n",
       "sandwich loaves                 523\n",
       "hand soap                       502\n",
       "Name: Product, dtype: int64"
      ]
     },
     "execution_count": 30,
     "metadata": {},
     "output_type": "execute_result"
    }
   ],
   "source": [
    "df['Product'].value_counts()"
   ]
  },
  {
   "cell_type": "code",
   "execution_count": 31,
   "id": "ba7a4f93",
   "metadata": {},
   "outputs": [],
   "source": [
    "df[\"day\"], df[\"month\"], df[\"year\"] = df[\"Date\"].str.split('-').str\n"
   ]
  },
  {
   "cell_type": "code",
   "execution_count": 32,
   "id": "732dbd58",
   "metadata": {},
   "outputs": [
    {
     "data": {
      "text/plain": [
       "<Figure size 864x864 with 0 Axes>"
      ]
     },
     "metadata": {},
     "output_type": "display_data"
    }
   ],
   "source": [
    "fig=plt.figure(figsize=(12,12))\n",
    "\n",
    "df[\"date\"] = pd.to_datetime(df['Date'])\n",
    "df[\"dayname\"] = df[\"date\"].dt.day_name()\n",
    "\n"
   ]
  },
  {
   "cell_type": "code",
   "execution_count": 33,
   "id": "e2e2f21a",
   "metadata": {},
   "outputs": [
    {
     "data": {
      "text/plain": [
       "0       2018-01-01\n",
       "1       2018-01-01\n",
       "2       2018-01-01\n",
       "3       2018-01-01\n",
       "4       2018-01-01\n",
       "           ...    \n",
       "20636   2020-02-25\n",
       "20637   2020-02-25\n",
       "20638   2020-02-26\n",
       "20639   2020-02-26\n",
       "20640   2020-02-26\n",
       "Name: date, Length: 20641, dtype: datetime64[ns]"
      ]
     },
     "execution_count": 33,
     "metadata": {},
     "output_type": "execute_result"
    }
   ],
   "source": [
    "df[\"date\"]"
   ]
  },
  {
   "cell_type": "code",
   "execution_count": 34,
   "id": "0aafad8b",
   "metadata": {},
   "outputs": [
    {
     "data": {
      "text/plain": [
       "0           Monday\n",
       "1           Monday\n",
       "2           Monday\n",
       "3           Monday\n",
       "4           Monday\n",
       "           ...    \n",
       "20636      Tuesday\n",
       "20637      Tuesday\n",
       "20638    Wednesday\n",
       "20639    Wednesday\n",
       "20640    Wednesday\n",
       "Name: dayname, Length: 20641, dtype: object"
      ]
     },
     "execution_count": 34,
     "metadata": {},
     "output_type": "execute_result"
    }
   ],
   "source": [
    "df[\"dayname\"]"
   ]
  },
  {
   "cell_type": "code",
   "execution_count": 35,
   "id": "315e36d0",
   "metadata": {},
   "outputs": [
    {
     "data": {
      "text/html": [
       "<div>\n",
       "<style scoped>\n",
       "    .dataframe tbody tr th:only-of-type {\n",
       "        vertical-align: middle;\n",
       "    }\n",
       "\n",
       "    .dataframe tbody tr th {\n",
       "        vertical-align: top;\n",
       "    }\n",
       "\n",
       "    .dataframe thead th {\n",
       "        text-align: right;\n",
       "    }\n",
       "</style>\n",
       "<table border=\"1\" class=\"dataframe\">\n",
       "  <thead>\n",
       "    <tr style=\"text-align: right;\">\n",
       "      <th></th>\n",
       "      <th>Date</th>\n",
       "      <th>Order_id</th>\n",
       "      <th>Product</th>\n",
       "      <th>day</th>\n",
       "      <th>month</th>\n",
       "      <th>year</th>\n",
       "      <th>date</th>\n",
       "      <th>dayname</th>\n",
       "    </tr>\n",
       "  </thead>\n",
       "  <tbody>\n",
       "    <tr>\n",
       "      <th>0</th>\n",
       "      <td>01-01-2018</td>\n",
       "      <td>1</td>\n",
       "      <td>yogurt</td>\n",
       "      <td>01</td>\n",
       "      <td>01</td>\n",
       "      <td>2018</td>\n",
       "      <td>2018-01-01</td>\n",
       "      <td>Monday</td>\n",
       "    </tr>\n",
       "    <tr>\n",
       "      <th>1</th>\n",
       "      <td>01-01-2018</td>\n",
       "      <td>1</td>\n",
       "      <td>pork</td>\n",
       "      <td>01</td>\n",
       "      <td>01</td>\n",
       "      <td>2018</td>\n",
       "      <td>2018-01-01</td>\n",
       "      <td>Monday</td>\n",
       "    </tr>\n",
       "    <tr>\n",
       "      <th>2</th>\n",
       "      <td>01-01-2018</td>\n",
       "      <td>1</td>\n",
       "      <td>sandwich bags</td>\n",
       "      <td>01</td>\n",
       "      <td>01</td>\n",
       "      <td>2018</td>\n",
       "      <td>2018-01-01</td>\n",
       "      <td>Monday</td>\n",
       "    </tr>\n",
       "    <tr>\n",
       "      <th>3</th>\n",
       "      <td>01-01-2018</td>\n",
       "      <td>1</td>\n",
       "      <td>lunch meat</td>\n",
       "      <td>01</td>\n",
       "      <td>01</td>\n",
       "      <td>2018</td>\n",
       "      <td>2018-01-01</td>\n",
       "      <td>Monday</td>\n",
       "    </tr>\n",
       "    <tr>\n",
       "      <th>4</th>\n",
       "      <td>01-01-2018</td>\n",
       "      <td>1</td>\n",
       "      <td>all- purpose</td>\n",
       "      <td>01</td>\n",
       "      <td>01</td>\n",
       "      <td>2018</td>\n",
       "      <td>2018-01-01</td>\n",
       "      <td>Monday</td>\n",
       "    </tr>\n",
       "  </tbody>\n",
       "</table>\n",
       "</div>"
      ],
      "text/plain": [
       "         Date  Order_id        Product day month  year       date dayname\n",
       "0  01-01-2018         1         yogurt  01    01  2018 2018-01-01  Monday\n",
       "1  01-01-2018         1           pork  01    01  2018 2018-01-01  Monday\n",
       "2  01-01-2018         1  sandwich bags  01    01  2018 2018-01-01  Monday\n",
       "3  01-01-2018         1     lunch meat  01    01  2018 2018-01-01  Monday\n",
       "4  01-01-2018         1   all- purpose  01    01  2018 2018-01-01  Monday"
      ]
     },
     "execution_count": 35,
     "metadata": {},
     "output_type": "execute_result"
    }
   ],
   "source": [
    "df.head()"
   ]
  },
  {
   "cell_type": "code",
   "execution_count": 36,
   "id": "2103f747",
   "metadata": {},
   "outputs": [
    {
     "data": {
      "text/plain": [
       "226     34\n",
       "957     34\n",
       "1013    34\n",
       "1071    34\n",
       "10      33\n",
       "        ..\n",
       "243      4\n",
       "1114     4\n",
       "523      4\n",
       "408      3\n",
       "1139     3\n",
       "Name: Order_id, Length: 1139, dtype: int64"
      ]
     },
     "execution_count": 36,
     "metadata": {},
     "output_type": "execute_result"
    }
   ],
   "source": [
    "df[\"Order_id\"].value_counts()"
   ]
  },
  {
   "cell_type": "code",
   "execution_count": 37,
   "id": "b0ce00f3",
   "metadata": {},
   "outputs": [
    {
     "data": {
      "text/plain": [
       "01    3227\n",
       "02    2815\n",
       "05    2337\n",
       "03    2255\n",
       "09    2126\n",
       "08    2120\n",
       "07    1997\n",
       "04    1937\n",
       "06    1827\n",
       "Name: month, dtype: int64"
      ]
     },
     "execution_count": 37,
     "metadata": {},
     "output_type": "execute_result"
    }
   ],
   "source": [
    "df['month'].value_counts()"
   ]
  },
  {
   "cell_type": "code",
   "execution_count": 38,
   "id": "4e45f35b",
   "metadata": {},
   "outputs": [
    {
     "data": {
      "text/html": [
       "<div>\n",
       "<style scoped>\n",
       "    .dataframe tbody tr th:only-of-type {\n",
       "        vertical-align: middle;\n",
       "    }\n",
       "\n",
       "    .dataframe tbody tr th {\n",
       "        vertical-align: top;\n",
       "    }\n",
       "\n",
       "    .dataframe thead th {\n",
       "        text-align: right;\n",
       "    }\n",
       "</style>\n",
       "<table border=\"1\" class=\"dataframe\">\n",
       "  <thead>\n",
       "    <tr style=\"text-align: right;\">\n",
       "      <th></th>\n",
       "      <th>Date</th>\n",
       "      <th>Order_id</th>\n",
       "      <th>Product</th>\n",
       "      <th>day</th>\n",
       "      <th>month</th>\n",
       "      <th>year</th>\n",
       "      <th>date</th>\n",
       "      <th>dayname</th>\n",
       "    </tr>\n",
       "  </thead>\n",
       "  <tbody>\n",
       "    <tr>\n",
       "      <th>20626</th>\n",
       "      <td>25-02-2020</td>\n",
       "      <td>1138</td>\n",
       "      <td>yogurt</td>\n",
       "      <td>25</td>\n",
       "      <td>02</td>\n",
       "      <td>2020</td>\n",
       "      <td>2020-02-25</td>\n",
       "      <td>Tuesday</td>\n",
       "    </tr>\n",
       "    <tr>\n",
       "      <th>20627</th>\n",
       "      <td>25-02-2020</td>\n",
       "      <td>1138</td>\n",
       "      <td>beef</td>\n",
       "      <td>25</td>\n",
       "      <td>02</td>\n",
       "      <td>2020</td>\n",
       "      <td>2020-02-25</td>\n",
       "      <td>Tuesday</td>\n",
       "    </tr>\n",
       "    <tr>\n",
       "      <th>20628</th>\n",
       "      <td>25-02-2020</td>\n",
       "      <td>1138</td>\n",
       "      <td>waffles</td>\n",
       "      <td>25</td>\n",
       "      <td>02</td>\n",
       "      <td>2020</td>\n",
       "      <td>2020-02-25</td>\n",
       "      <td>Tuesday</td>\n",
       "    </tr>\n",
       "    <tr>\n",
       "      <th>20629</th>\n",
       "      <td>25-02-2020</td>\n",
       "      <td>1138</td>\n",
       "      <td>sugar</td>\n",
       "      <td>25</td>\n",
       "      <td>02</td>\n",
       "      <td>2020</td>\n",
       "      <td>2020-02-25</td>\n",
       "      <td>Tuesday</td>\n",
       "    </tr>\n",
       "    <tr>\n",
       "      <th>20630</th>\n",
       "      <td>25-02-2020</td>\n",
       "      <td>1138</td>\n",
       "      <td>spaghetti sauce</td>\n",
       "      <td>25</td>\n",
       "      <td>02</td>\n",
       "      <td>2020</td>\n",
       "      <td>2020-02-25</td>\n",
       "      <td>Tuesday</td>\n",
       "    </tr>\n",
       "    <tr>\n",
       "      <th>20631</th>\n",
       "      <td>25-02-2020</td>\n",
       "      <td>1138</td>\n",
       "      <td>all- purpose</td>\n",
       "      <td>25</td>\n",
       "      <td>02</td>\n",
       "      <td>2020</td>\n",
       "      <td>2020-02-25</td>\n",
       "      <td>Tuesday</td>\n",
       "    </tr>\n",
       "    <tr>\n",
       "      <th>20632</th>\n",
       "      <td>25-02-2020</td>\n",
       "      <td>1138</td>\n",
       "      <td>sandwich bags</td>\n",
       "      <td>25</td>\n",
       "      <td>02</td>\n",
       "      <td>2020</td>\n",
       "      <td>2020-02-25</td>\n",
       "      <td>Tuesday</td>\n",
       "    </tr>\n",
       "    <tr>\n",
       "      <th>20633</th>\n",
       "      <td>25-02-2020</td>\n",
       "      <td>1138</td>\n",
       "      <td>toilet paper</td>\n",
       "      <td>25</td>\n",
       "      <td>02</td>\n",
       "      <td>2020</td>\n",
       "      <td>2020-02-25</td>\n",
       "      <td>Tuesday</td>\n",
       "    </tr>\n",
       "    <tr>\n",
       "      <th>20634</th>\n",
       "      <td>25-02-2020</td>\n",
       "      <td>1138</td>\n",
       "      <td>soda</td>\n",
       "      <td>25</td>\n",
       "      <td>02</td>\n",
       "      <td>2020</td>\n",
       "      <td>2020-02-25</td>\n",
       "      <td>Tuesday</td>\n",
       "    </tr>\n",
       "    <tr>\n",
       "      <th>20635</th>\n",
       "      <td>25-02-2020</td>\n",
       "      <td>1138</td>\n",
       "      <td>soda</td>\n",
       "      <td>25</td>\n",
       "      <td>02</td>\n",
       "      <td>2020</td>\n",
       "      <td>2020-02-25</td>\n",
       "      <td>Tuesday</td>\n",
       "    </tr>\n",
       "    <tr>\n",
       "      <th>20636</th>\n",
       "      <td>25-02-2020</td>\n",
       "      <td>1138</td>\n",
       "      <td>soda</td>\n",
       "      <td>25</td>\n",
       "      <td>02</td>\n",
       "      <td>2020</td>\n",
       "      <td>2020-02-25</td>\n",
       "      <td>Tuesday</td>\n",
       "    </tr>\n",
       "    <tr>\n",
       "      <th>20637</th>\n",
       "      <td>25-02-2020</td>\n",
       "      <td>1138</td>\n",
       "      <td>paper towels</td>\n",
       "      <td>25</td>\n",
       "      <td>02</td>\n",
       "      <td>2020</td>\n",
       "      <td>2020-02-25</td>\n",
       "      <td>Tuesday</td>\n",
       "    </tr>\n",
       "    <tr>\n",
       "      <th>20638</th>\n",
       "      <td>26-02-2020</td>\n",
       "      <td>1139</td>\n",
       "      <td>soda</td>\n",
       "      <td>26</td>\n",
       "      <td>02</td>\n",
       "      <td>2020</td>\n",
       "      <td>2020-02-26</td>\n",
       "      <td>Wednesday</td>\n",
       "    </tr>\n",
       "    <tr>\n",
       "      <th>20639</th>\n",
       "      <td>26-02-2020</td>\n",
       "      <td>1139</td>\n",
       "      <td>laundry detergent</td>\n",
       "      <td>26</td>\n",
       "      <td>02</td>\n",
       "      <td>2020</td>\n",
       "      <td>2020-02-26</td>\n",
       "      <td>Wednesday</td>\n",
       "    </tr>\n",
       "    <tr>\n",
       "      <th>20640</th>\n",
       "      <td>26-02-2020</td>\n",
       "      <td>1139</td>\n",
       "      <td>shampoo</td>\n",
       "      <td>26</td>\n",
       "      <td>02</td>\n",
       "      <td>2020</td>\n",
       "      <td>2020-02-26</td>\n",
       "      <td>Wednesday</td>\n",
       "    </tr>\n",
       "  </tbody>\n",
       "</table>\n",
       "</div>"
      ],
      "text/plain": [
       "             Date  Order_id            Product day month  year       date  \\\n",
       "20626  25-02-2020      1138             yogurt  25    02  2020 2020-02-25   \n",
       "20627  25-02-2020      1138               beef  25    02  2020 2020-02-25   \n",
       "20628  25-02-2020      1138            waffles  25    02  2020 2020-02-25   \n",
       "20629  25-02-2020      1138              sugar  25    02  2020 2020-02-25   \n",
       "20630  25-02-2020      1138    spaghetti sauce  25    02  2020 2020-02-25   \n",
       "20631  25-02-2020      1138       all- purpose  25    02  2020 2020-02-25   \n",
       "20632  25-02-2020      1138      sandwich bags  25    02  2020 2020-02-25   \n",
       "20633  25-02-2020      1138       toilet paper  25    02  2020 2020-02-25   \n",
       "20634  25-02-2020      1138               soda  25    02  2020 2020-02-25   \n",
       "20635  25-02-2020      1138               soda  25    02  2020 2020-02-25   \n",
       "20636  25-02-2020      1138               soda  25    02  2020 2020-02-25   \n",
       "20637  25-02-2020      1138       paper towels  25    02  2020 2020-02-25   \n",
       "20638  26-02-2020      1139               soda  26    02  2020 2020-02-26   \n",
       "20639  26-02-2020      1139  laundry detergent  26    02  2020 2020-02-26   \n",
       "20640  26-02-2020      1139            shampoo  26    02  2020 2020-02-26   \n",
       "\n",
       "         dayname  \n",
       "20626    Tuesday  \n",
       "20627    Tuesday  \n",
       "20628    Tuesday  \n",
       "20629    Tuesday  \n",
       "20630    Tuesday  \n",
       "20631    Tuesday  \n",
       "20632    Tuesday  \n",
       "20633    Tuesday  \n",
       "20634    Tuesday  \n",
       "20635    Tuesday  \n",
       "20636    Tuesday  \n",
       "20637    Tuesday  \n",
       "20638  Wednesday  \n",
       "20639  Wednesday  \n",
       "20640  Wednesday  "
      ]
     },
     "execution_count": 38,
     "metadata": {},
     "output_type": "execute_result"
    }
   ],
   "source": [
    "df.tail(15)"
   ]
  },
  {
   "cell_type": "code",
   "execution_count": null,
   "id": "ce6dcf8a",
   "metadata": {},
   "outputs": [],
   "source": []
  }
 ],
 "metadata": {
  "kernelspec": {
   "display_name": "Python 3 (ipykernel)",
   "language": "python",
   "name": "python3"
  },
  "language_info": {
   "codemirror_mode": {
    "name": "ipython",
    "version": 3
   },
   "file_extension": ".py",
   "mimetype": "text/x-python",
   "name": "python",
   "nbconvert_exporter": "python",
   "pygments_lexer": "ipython3",
   "version": "3.9.12"
  }
 },
 "nbformat": 4,
 "nbformat_minor": 5
}
